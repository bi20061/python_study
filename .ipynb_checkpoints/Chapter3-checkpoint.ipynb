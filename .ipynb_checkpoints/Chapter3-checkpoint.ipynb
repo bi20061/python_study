{
 "cells": [
  {
   "cell_type": "code",
   "execution_count": 2,
   "id": "ee841dd2",
   "metadata": {},
   "outputs": [
    {
     "name": "stdout",
     "output_type": "stream",
     "text": [
      "追加する科目名を入力してくださいdatabase\n",
      "既に追加済みです\n",
      "{'network': 60, 'database': 80, 'security': 50}\n"
     ]
    }
   ],
   "source": [
    "#in(ディクショナリのキーをチェック)\n",
    "\n",
    "scores = {\"network\": 60, \"database\": 80, \"security\": 50};\n",
    "\n",
    "key = input(\"追加する科目名を入力してください\");\n",
    "\n",
    "if key in scores:\n",
    "    print(\"既に追加済みです\");\n",
    "else:\n",
    "    data = int(input(\"点数を入力してください\"));\n",
    "    scores[key] = data;\n",
    "\n",
    "print(scores);"
   ]
  },
  {
   "cell_type": "code",
   "execution_count": 5,
   "id": "2442dc93",
   "metadata": {},
   "outputs": [
    {
     "name": "stdout",
     "output_type": "stream",
     "text": [
      "scoreを入力してください23\n",
      "不合格\n"
     ]
    }
   ],
   "source": [
    "#and\n",
    "\n",
    "score = int(input(\"scoreを入力してください\"));\n",
    "\n",
    "if score >= 60 and score <= 100:\n",
    "    print(\"合格\");\n",
    "else:\n",
    "    print(\"不合格\");"
   ]
  },
  {
   "cell_type": "code",
   "execution_count": 18,
   "id": "ba28445a",
   "metadata": {},
   "outputs": [
    {
     "name": "stdout",
     "output_type": "stream",
     "text": [
      "nの値を入力してください32\n"
     ]
    }
   ],
   "source": [
    "#演習１\n",
    "\n",
    "isError = False;\n",
    "n = int(input(\"nの値を入力してください\"));\n",
    "\n",
    "if not isError and n < 100:\n",
    "    print(\"何やこのプログラム\");\n",
    "else:\n",
    "    pass;"
   ]
  },
  {
   "cell_type": "code",
   "execution_count": 21,
   "id": "fb5c7848",
   "metadata": {},
   "outputs": [
    {
     "name": "stdout",
     "output_type": "stream",
     "text": [
      "数字を入力してください2\n",
      "2は偶数です\n"
     ]
    }
   ],
   "source": [
    "#演習２\n",
    "\n",
    "index = int(input(\"数字を入力してください\"));\n",
    "hoge = index % 2;\n",
    "\n",
    "if hoge == 0:\n",
    "    print(f\"{index}は偶数です\");\n",
    "else:\n",
    "    print(f\"{index}は奇数です\");"
   ]
  },
  {
   "cell_type": "code",
   "execution_count": 26,
   "id": "620c0e99",
   "metadata": {},
   "outputs": [
    {
     "name": "stdout",
     "output_type": "stream",
     "text": [
      "話しかけてくださいさようなら\n",
      "お元気で\n"
     ]
    }
   ],
   "source": [
    "#演習３\n",
    "\n",
    "greeting = input(\"話しかけてください\");\n",
    "\n",
    "if greeting == \"こんにちは\":\n",
    "    print(\"ようこそ！\");\n",
    "elif greeting == \"景気は？\":\n",
    "    print(\"ぼちぼちです\");\n",
    "elif greeting == \"さようなら\":\n",
    "    print(\"お元気で\");\n",
    "else:\n",
    "    print(\"どうしました？\");"
   ]
  },
  {
   "cell_type": "code",
   "execution_count": 27,
   "id": "11d37dfa",
   "metadata": {},
   "outputs": [
    {
     "name": "stdout",
     "output_type": "stream",
     "text": [
      "数値を入力してください３\n",
      "3は奇数です\n"
     ]
    }
   ],
   "source": [
    "#演習２三項条件演算子Ver\n",
    "\n",
    "number = int(input(\"数値を入力してください\"));\n",
    "\n",
    "dev = \"偶数\" if number % 2 == 0 else \"奇数\";\n",
    "\n",
    "print(f\"{number}は{dev}です\")"
   ]
  }
 ],
 "metadata": {
  "kernelspec": {
   "display_name": "Python 3 (ipykernel)",
   "language": "python",
   "name": "python3"
  },
  "language_info": {
   "codemirror_mode": {
    "name": "ipython",
    "version": 3
   },
   "file_extension": ".py",
   "mimetype": "text/x-python",
   "name": "python",
   "nbconvert_exporter": "python",
   "pygments_lexer": "ipython3",
   "version": "3.8.12"
  }
 },
 "nbformat": 4,
 "nbformat_minor": 5
}

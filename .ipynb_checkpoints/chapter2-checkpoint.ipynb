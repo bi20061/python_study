{
 "cells": [
  {
   "cell_type": "code",
   "execution_count": 6,
   "id": "e5fa9cdf",
   "metadata": {},
   "outputs": [
    {
     "name": "stdout",
     "output_type": "stream",
     "text": [
      "合計224点、平均74.66666666666667点\n"
     ]
    }
   ],
   "source": [
    "#len\n",
    "\n",
    "scores = [88, 93, 43];\n",
    "total = sum(scores);\n",
    "avg = total / len(scores);\n",
    "print(f\"合計{total}点、平均{avg}点\");"
   ]
  },
  {
   "cell_type": "code",
   "execution_count": 7,
   "id": "6bdd0b46",
   "metadata": {},
   "outputs": [
    {
     "name": "stdout",
     "output_type": "stream",
     "text": [
      "164\n"
     ]
    }
   ],
   "source": [
    "#sum\n",
    "\n",
    "scores = {\"network\":60, \"database\":70,\"security\":34};\n",
    "\n",
    "total = sum(scores.values());\n",
    "\n",
    "print(total);"
   ]
  },
  {
   "cell_type": "code",
   "execution_count": 9,
   "id": "7b15219a",
   "metadata": {},
   "outputs": [
    {
     "name": "stdout",
     "output_type": "stream",
     "text": [
      "('松田', '鈴木', '豊田')\n",
      "['network', 'database', 'security']\n",
      "{75, 60}\n"
     ]
    }
   ],
   "source": [
    "#コレクションの相互変換\n",
    "\n",
    "scores = {\"network\":60, \"database\":75, \"security\":75};\n",
    "members = {\"松田\", \"鈴木\", \"豊田\"};\n",
    "\n",
    "print(tuple(members));\n",
    "\n",
    "print(list(scores));\n",
    "\n",
    "print(set(scores.values()));\n",
    "\n"
   ]
  },
  {
   "cell_type": "code",
   "execution_count": 10,
   "id": "e71babb8",
   "metadata": {},
   "outputs": [
    {
     "name": "stdout",
     "output_type": "stream",
     "text": [
      "{1, 2, 3, 4, 5}\n",
      "{2, 3, 4}\n",
      "{1}\n",
      "{1, 5}\n"
     ]
    }
   ],
   "source": [
    "#集合演算\n",
    "\n",
    "A = {1, 2, 3, 4};\n",
    "\n",
    "B = {2, 3, 4, 5};\n",
    "\n",
    "print(A | B);\n",
    "print(A & B);\n",
    "print(A - B);\n",
    "print(A ^ B);"
   ]
  },
  {
   "cell_type": "code",
   "execution_count": 12,
   "id": "f46ca451",
   "metadata": {},
   "outputs": [
    {
     "name": "stdout",
     "output_type": "stream",
     "text": [
      "国語の点数を入力してください80\n",
      "数学の点数を入力してください80\n",
      "理科の点数を入力してください90\n",
      "社会の点数を入力してください88\n",
      "英語の点数を入力してください73\n",
      "合計411点、平均82.2点\n"
     ]
    }
   ],
   "source": [
    "#練習\n",
    "\n",
    "japanese = int(input(\"国語の点数を入力してください\"));\n",
    "math = int(input(\"数学の点数を入力してください\"));\n",
    "science = int(input(\"理科の点数を入力してください\"));\n",
    "society = int(input(\"社会の点数を入力してください\"));\n",
    "english = int(input(\"英語の点数を入力してください\"));\n",
    "\n",
    "total = japanese + math + science + society + english;\n",
    "avg = total / 5;\n",
    "\n",
    "print(f\"合計{total}点、平均{avg}点\")"
   ]
  },
  {
   "cell_type": "code",
   "execution_count": 21,
   "id": "82843701",
   "metadata": {},
   "outputs": [
    {
     "name": "stdout",
     "output_type": "stream",
     "text": [
      "心の準備ができたらEnterを押してください\n",
      "二人の相性度は25.0%です\n"
     ]
    }
   ],
   "source": [
    "#練習\n",
    "\n",
    "player1 = {\"筋トレ\", \"キャッチボール\", \"バスケットボール\", \"サックス\", \"旅行\"};\n",
    "player2 = {\"ヨガ\", \"ダンス\", \"旅行\", \"韓国\", \"キャッチボール\"};\n",
    "\n",
    "common = len(player1 & player2);\n",
    "union = len(player1 | player2);\n",
    "comp = common / union * 100;\n",
    "\n",
    "input(\"心の準備ができたらEnterを押してください\");\n",
    "print(f\"二人の相性度は{comp}%です\");\n",
    "\n",
    "\n",
    "\n"
   ]
  }
 ],
 "metadata": {
  "kernelspec": {
   "display_name": "Python 3 (ipykernel)",
   "language": "python",
   "name": "python3"
  },
  "language_info": {
   "codemirror_mode": {
    "name": "ipython",
    "version": 3
   },
   "file_extension": ".py",
   "mimetype": "text/x-python",
   "name": "python",
   "nbconvert_exporter": "python",
   "pygments_lexer": "ipython3",
   "version": "3.8.12"
  }
 },
 "nbformat": 4,
 "nbformat_minor": 5
}

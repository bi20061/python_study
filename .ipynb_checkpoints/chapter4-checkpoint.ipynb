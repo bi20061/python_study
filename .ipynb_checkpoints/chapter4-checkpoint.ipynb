{
 "cells": [
  {
   "cell_type": "markdown",
   "id": "f846845d",
   "metadata": {},
   "source": [
    "while,forについて"
   ]
  },
  {
   "cell_type": "code",
   "execution_count": 1,
   "id": "edb9643f",
   "metadata": {},
   "outputs": [
    {
     "name": "stdout",
     "output_type": "stream",
     "text": [
      "合格\n",
      "不合格\n",
      "合格\n",
      "合格\n"
     ]
    }
   ],
   "source": [
    "#whiel\n",
    "\n",
    "scores = [80, 20, 75, 60];\n",
    "\n",
    "count = 0;\n",
    "\n",
    "while count < len(scores):\n",
    "    if scores[count] >= 60:\n",
    "        print (\"合格\");\n",
    "    else:\n",
    "        print(\"不合格\")\n",
    "    count += 1;"
   ]
  },
  {
   "cell_type": "code",
   "execution_count": 2,
   "id": "8c7b6120",
   "metadata": {},
   "outputs": [
    {
     "name": "stdout",
     "output_type": "stream",
     "text": [
      "[28, 20, 25, 22]\n"
     ]
    }
   ],
   "source": [
    "#continu、isinstance関数\n",
    "\n",
    "ages = [28, 50, \"ひみつ\", 20, 78, 25, 22, 10, \"無回答\", 33];\n",
    "\n",
    "samples = list();\n",
    "\n",
    "for data in ages:\n",
    "    if not isinstance(data, int):\n",
    "        continue;\n",
    "    \n",
    "    if data < 20 or data >= 30:\n",
    "        continue;\n",
    "        \n",
    "    samples.append(data);\n",
    "\n",
    "print(samples);"
   ]
  },
  {
   "cell_type": "code",
   "execution_count": 8,
   "id": "d887a33c",
   "metadata": {},
   "outputs": [
    {
     "name": "stdout",
     "output_type": "stream",
     "text": [
      "任意の値を入力してください4\n",
      "現在countは1です\n",
      "現在countは2です\n",
      "現在countは3です\n",
      "現在countは4です\n",
      "countが4になったので初期化します\n",
      "count = 0\n"
     ]
    }
   ],
   "source": [
    "#演習 変数countを任意の値で初期化する\n",
    "\n",
    "count = 1;\n",
    "\n",
    "number = int(input(\"任意の値を入力してください\"));\n",
    "\n",
    "while count < number + 1 :\n",
    "    print(f\"現在countは{count}です\");\n",
    "    count += 1;\n",
    "\n",
    "count = 0;\n",
    "\n",
    "print(f\"countが{number}になったので初期化します\");\n",
    "print(f\"count = {count}\");"
   ]
  },
  {
   "cell_type": "code",
   "execution_count": 11,
   "id": "d5cdf4df",
   "metadata": {},
   "outputs": [
    {
     "name": "stdout",
     "output_type": "stream",
     "text": [
      "カレーを何杯食べますか?2\n",
      "カレーを召し上がれ\n",
      "カレーを1皿食べました\n",
      "カレーを2皿食べました\n"
     ]
    }
   ],
   "source": [
    "#演習　カレー\n",
    "\n",
    "number = int(input(\"カレーを何杯食べますか?\"));\n",
    "print(\"カレーを召し上がれ\");\n",
    "count = 1;\n",
    "\n",
    "while count < number + 1:\n",
    "    print(f\"カレーを{count}皿食べました\");\n",
    "    count += 1;"
   ]
  },
  {
   "cell_type": "code",
   "execution_count": 14,
   "id": "62cf0dfe",
   "metadata": {},
   "outputs": [
    {
     "name": "stdout",
     "output_type": "stream",
     "text": [
      "カレーを召し上がれ\n",
      "1皿のカレーを食べました\n",
      "おかわりはいかがですか？(y/n)y\n",
      "2皿のカレーを食べました\n",
      "おかわりはいかがですか？(y/n)y\n",
      "3皿のカレーを食べました\n",
      "おかわりはいかがですか？(y/n)n\n",
      "ごちそうさまでした\n"
     ]
    }
   ],
   "source": [
    "#演習　カレー２\n",
    "\n",
    "print(\"カレーを召し上がれ\");\n",
    "\n",
    "count = 1;\n",
    "\n",
    "while count:\n",
    "    print(f\"{count}皿のカレーを食べました\");\n",
    "    more = input(\"おかわりはいかがですか？(y/n)\");\n",
    "    \n",
    "    if more == \"y\":\n",
    "        count += 1;\n",
    "    else:\n",
    "        print(\"ごちそうさまでした\");\n",
    "        break;\n",
    "\n",
    "\n",
    "    "
   ]
  },
  {
   "cell_type": "code",
   "execution_count": 9,
   "id": "df73a311",
   "metadata": {},
   "outputs": [
    {
     "name": "stdout",
     "output_type": "stream",
     "text": [
      "カレーを召し上がれ\n",
      "1皿のカレーを食べました\n",
      "おかわりはいかがですか？（y/n）y\n",
      "2皿のカレーを食べました\n",
      "おかわりはいかがですか？（y/n）y\n",
      "3皿のカレーを食べました\n",
      "おかわりはいかがですか？（y/n）y\n",
      "4皿のカレーを食べました\n",
      "おかわりはいかがですか？（y/n）y\n",
      "5皿のカレーを食べました\n",
      "おかわりはいかがですか？（y/n）yy\n",
      "ごちそうさまでした。\n"
     ]
    }
   ],
   "source": [
    "#解答　カレー\n",
    "count = 1;\n",
    "\n",
    "ans = True;\n",
    "\n",
    "print(\"カレーを召し上がれ\");\n",
    "while ans == True:\n",
    "    print(\"{}皿のカレーを食べました\".format(count));\n",
    "    key = input(\"おかわりはいかがですか？（y/n）\");\n",
    "    if key == \"y\":\n",
    "        count += 1;\n",
    "    else:\n",
    "     ans = False;\n",
    "\n",
    "print(\"ごちそうさまでした。\");"
   ]
  },
  {
   "cell_type": "code",
   "execution_count": 21,
   "id": "90c1b085",
   "metadata": {},
   "outputs": [
    {
     "name": "stdout",
     "output_type": "stream",
     "text": [
      "10,9,8,7,6,5,4,3,2,1,Lift off!\n"
     ]
    }
   ],
   "source": [
    "#演習　for カウントダウン\n",
    "\n",
    "number = 10;\n",
    "\n",
    "for i in range(11):\n",
    "    if i == 10:\n",
    "        print(\"Lift off!\");\n",
    "    else:\n",
    "        print(f\"{number},\", end=\"\");\n",
    "        number -= 1;"
   ]
  },
  {
   "cell_type": "code",
   "execution_count": 11,
   "id": "f4029128",
   "metadata": {},
   "outputs": [
    {
     "name": "stdout",
     "output_type": "stream",
     "text": [
      "10,9,8,7,6,5,4,3,2,1,Lift off!\n"
     ]
    }
   ],
   "source": [
    "#解答　for カウントダウン\n",
    "\n",
    "for n in range(10):\n",
    "    print(\"{},\".format(10 - n), end =\"\");\n",
    "print(\"Lift off!\");"
   ]
  },
  {
   "cell_type": "code",
   "execution_count": 1,
   "id": "31d8fdcc",
   "metadata": {},
   "outputs": [
    {
     "name": "stdout",
     "output_type": "stream",
     "text": [
      "1×1 = 1\n",
      "1×2 = 2\n",
      "1×3 = 3\n",
      "1×4 = 4\n",
      "1×5 = 5\n",
      "1×6 = 6\n",
      "1×7 = 7\n",
      "1×8 = 8\n",
      "1×9 = 9\n",
      "3×1 = 3\n",
      "3×2 = 6\n",
      "3×3 = 9\n",
      "3×4 = 12\n",
      "3×5 = 15\n",
      "3×6 = 18\n",
      "3×7 = 21\n",
      "3×8 = 24\n",
      "3×9 = 27\n",
      "5×1 = 5\n",
      "5×2 = 10\n",
      "5×3 = 15\n",
      "5×4 = 20\n",
      "5×5 = 25\n",
      "5×6 = 30\n",
      "5×7 = 35\n",
      "5×8 = 40\n",
      "5×9 = 45\n",
      "7×1 = 7\n",
      "7×2 = 14\n",
      "7×3 = 21\n",
      "7×4 = 28\n",
      "7×5 = 35\n",
      "7×6 = 42\n",
      "7×7 = 49\n",
      "9×1 = 9\n",
      "9×2 = 18\n",
      "9×3 = 27\n",
      "9×4 = 36\n",
      "9×5 = 45\n"
     ]
    }
   ],
   "source": [
    "#演習　for 九九\n",
    "\n",
    "for i in range(9):\n",
    "    if (i + 1) % 2 == 0:\n",
    "        continue;\n",
    "    for j in range(9):\n",
    "        answer = (i + 1) * (j + 1);\n",
    "        if answer > 50:\n",
    "            break;\n",
    "        print(f\"{i + 1}×{j + 1} = {answer}\");\n"
   ]
  },
  {
   "cell_type": "code",
   "execution_count": 22,
   "id": "71550ede",
   "metadata": {},
   "outputs": [
    {
     "name": "stdout",
     "output_type": "stream",
     "text": [
      "1件目の気温を入力してください7.8\n",
      "2件目の気温を入力してください9.1\n",
      "3件目の気温を入力してください10.2\n",
      "4件目の気温を入力してください11.0\n",
      "5件目の気温を入力してください12.5\n",
      "6件目の気温を入力してください12.4\n",
      "7件目の気温を入力してください14.3\n",
      "8件目の気温を入力してください13.8\n",
      "9件目の気温を入力してください12.9\n",
      "10件目の気温を入力してください12.4\n",
      "8時：7.8度\n",
      "9時：9.1度\n",
      "10時：10.2度\n",
      "11時：11.0度\n",
      "12時：12.5度\n",
      "13時：12.4度\n",
      "14時：14.3度\n",
      "15時：13.8度\n",
      "16時：12.9度\n",
      "17時：12.4度\n",
      "[7.8, 9.1, 10.2, 11.0, 12.5, 12.4, 14.3, 13.8, 12.9, 12.4]\n",
      "[7.8, 9.1, 10.2, 11.0, 12.5, 'N/A', 14.3, 13.8, 12.9, 12.4]\n",
      "平均気温は9.4です\n"
     ]
    }
   ],
   "source": [
    "# 演習　list for\n",
    "\n",
    "temp = [];\n",
    "\n",
    "for i in range(10):\n",
    "    data = float(input(f\"{i + 1}件目の気温を入力してください\"));\n",
    "    temp.append(data);\n",
    "    \n",
    "for j in range(len(temp)):\n",
    "    print(f\"{j + 8}時：{temp[j]}度\");\n",
    "\n",
    "temp_new = [];\n",
    "\n",
    "for count in range(len(temp)):\n",
    "    if count == 5:\n",
    "        temp_new.append(\"N/A\");\n",
    "    else:\n",
    "        temp_new.append(temp[count]);\n",
    "total = 0;\n",
    "\n",
    "for count in range(len(temp_new)):\n",
    "    if count == 5:\n",
    "        continue;\n",
    "    else:\n",
    "        total += temp_new[count];\n",
    "\n",
    "avg = total / len(temp_new) - 1;\n",
    "\n",
    "print(temp);\n",
    "print(temp_new);\n",
    "print(f\"平均気温は{avg}度です\");\n",
    "\n",
    "    \n"
   ]
  },
  {
   "cell_type": "code",
   "execution_count": 13,
   "id": "d1cf2b28",
   "metadata": {},
   "outputs": [
    {
     "name": "stdout",
     "output_type": "stream",
     "text": [
      "[1, 1, 2, 3, 5, 8, 13, 21, 34, 55, 89, 144, 233, 377, 610, 987]\n",
      "[1.0, 2.0, 1.5, 1.666, 1.6, 1.625, 1.615, 1.619, 1.617, 1.618, 1.617, 1.618, 1.618, 1.618, 1.618]\n",
      "<class 'float'>\n"
     ]
    }
   ],
   "source": [
    "# 演習 list\n",
    "\n",
    "numbers = [1, 1];\n",
    "add = 0;\n",
    "i = 0;\n",
    "\n",
    "while add < 1000:\n",
    "    add = numbers[i] + numbers[i + 1]\n",
    "    if add > 1000:\n",
    "        break;\n",
    "    else:\n",
    "        numbers.append(add);\n",
    "        i += 1;\n",
    "\n",
    "ratios = [];\n",
    "\n",
    "for div in range(len(numbers)):\n",
    "    if div == 0:\n",
    "        continue;\n",
    "    else:\n",
    "        data = int(numbers[div] / numbers[div - 1] * 1000) / 1000 \n",
    "        ratios.append(data);\n",
    "\n",
    "print(numbers);\n",
    "print(ratios)\n",
    "print(type(ratios[3]))"
   ]
  }
 ],
 "metadata": {
  "kernelspec": {
   "display_name": "Python 3 (ipykernel)",
   "language": "python",
   "name": "python3"
  },
  "language_info": {
   "codemirror_mode": {
    "name": "ipython",
    "version": 3
   },
   "file_extension": ".py",
   "mimetype": "text/x-python",
   "name": "python",
   "nbconvert_exporter": "python",
   "pygments_lexer": "ipython3",
   "version": "3.8.12"
  }
 },
 "nbformat": 4,
 "nbformat_minor": 5
}

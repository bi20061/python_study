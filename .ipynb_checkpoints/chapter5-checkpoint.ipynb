{
 "cells": [
  {
   "cell_type": "markdown",
   "id": "5bc2a6df",
   "metadata": {},
   "source": [
    "関数"
   ]
  },
  {
   "cell_type": "code",
   "execution_count": 9,
   "id": "4d170cc3",
   "metadata": {},
   "outputs": [
    {
     "name": "stdout",
     "output_type": "stream",
     "text": [
      "朝はトーストを食べました\n",
      "昼はパスタを食べました\n",
      "夜はカレーを食べました\n",
      "おやつにクッキーを食べました\n",
      "おやつにケーキを食べました\n",
      "おやつにプリンを食べました\n",
      "朝食に納豆を食べました\n",
      "遅めの昼食にラーメンを食べました\n",
      "夕方のおやつにすしざんまいを食べました\n",
      "{'朝食': '納豆', '夜食': 'ラーメン'}\n"
     ]
    }
   ],
   "source": [
    "# 可変長引数\n",
    "\n",
    "def eat (breakfast, lunch, dinner=\"カレー\", *desserts):\n",
    "    print(f\"朝は{breakfast}を食べました\");\n",
    "    print(f\"昼は{lunch}を食べました\");\n",
    "    print(f\"夜は{dinner}を食べました\");\n",
    "    for d in desserts:\n",
    "          print(f\"おやつに{d}を食べました\");\n",
    "\n",
    "def eat_new(**kwargs):\n",
    "    for key in kwargs:\n",
    "        print(f\"{key}に{kwargs[key]}を食べました\");\n",
    "          \n",
    "eat(\"トースト\", \"パスタ\", \"カレー\", \"クッキー\", \"ケーキ\", \"プリン\");\n",
    "eat_new(朝食=\"納豆\", 遅めの昼食=\"ラーメン\", 夕方のおやつ=\"すしざんまい\");"
   ]
  },
  {
   "cell_type": "code",
   "execution_count": 4,
   "id": "1095cbe1",
   "metadata": {},
   "outputs": [
    {
     "name": "stdout",
     "output_type": "stream",
     "text": [
      "うるう年か判定したい西暦を入力してください2068\n",
      "西暦2068年は、うるう年です\n"
     ]
    }
   ],
   "source": [
    "#演習　うるう年判定\n",
    "\n",
    "def is_leapyear(year):\n",
    "    if year % 400 == 0:\n",
    "        print(f\"西暦{year}年は、うるう年です\");\n",
    "    elif year % 4 == 0 and year % 100 != 0:\n",
    "        print(f\"西暦{year}年は、うるう年です\");\n",
    "    else:\n",
    "        print(f\"西暦{year}年は、うるう年ではありません\");\n",
    "\n",
    "year = int(input(\"うるう年か判定したい西暦を入力してください\"));\n",
    "\n",
    "is_leapyear(year);"
   ]
  },
  {
   "cell_type": "code",
   "execution_count": 20,
   "id": "dd15fccb",
   "metadata": {},
   "outputs": [
    {
     "name": "stdout",
     "output_type": "stream",
     "text": [
      "現在の西暦を入力してください>>2222\n",
      "西暦2222年は、うるう年ではありません\n"
     ]
    }
   ],
   "source": [
    "#解答　うるう年判定\n",
    "\n",
    "def is_leapyear(y):\n",
    "    return (y % 400 == 0 or (y % 4 == 0 and y % 100 != 0));\n",
    "\n",
    "current_year = int(input(\"現在の西暦を入力してください>>\"));\n",
    "if is_leapyear(current_year):\n",
    "    print(\"西暦{}年は、うるう年です\".format(current_year));\n",
    "else:\n",
    "    print(\"西暦{}年は、うるう年ではありません\".format(current_year));"
   ]
  },
  {
   "cell_type": "code",
   "execution_count": 9,
   "id": "284b6675",
   "metadata": {},
   "outputs": [
    {
     "name": "stdout",
     "output_type": "stream",
     "text": [
      "行ってきます\n",
      "ちょっと歩きます\n",
      "バスに乗ります\n",
      "走ります\n",
      "ちょっと歩きます\n",
      "走ります\n",
      "ちょっと歩きます\n",
      "ただいま\n"
     ]
    }
   ],
   "source": [
    "#演習　関数ネスト\n",
    "\n",
    "def take_bus():\n",
    "    print(\"バスに乗ります\");\n",
    "    \n",
    "def walk():\n",
    "    print(\"ちょっと歩きます\");\n",
    "    \n",
    "def run():\n",
    "    print(\"走ります\");\n",
    "    walk();\n",
    "    \n",
    "\n",
    "print(\"行ってきます\");\n",
    "walk(); take_bus(); run(); run();\n",
    "print(\"ただいま\");"
   ]
  },
  {
   "cell_type": "code",
   "execution_count": 19,
   "id": "ecd6bf6f",
   "metadata": {},
   "outputs": [
    {
     "name": "stdout",
     "output_type": "stream",
     "text": [
      "支払総額を入力してください2222\n",
      "参加人数を入力してください2\n",
      "**支払額**\n",
      "1人当たり1200円,(2人),幹事は1022円です\n"
     ]
    }
   ],
   "source": [
    "#演習　割り勘計算\n",
    "\n",
    "def int_input(msg):\n",
    "    return int(input(f\"{msg}を入力してください\"));\n",
    "    \n",
    "\n",
    "def calc_payment(amount, people = 2):\n",
    "    dnum = amount / people;\n",
    "    pay = dnum // 100 * 100;\n",
    "    if dnum > pay:\n",
    "        pay = int(pay + 100);\n",
    "    \n",
    "    payorg = amount - pay * (people - 1);\n",
    "    \n",
    "    return [pay, payorg];\n",
    "\n",
    "def show_payment(pay, payorg, people = 2):\n",
    "    print(\"**支払額**\");\n",
    "    print(f\"1人当たり{pay}円,({people}人),幹事は{payorg}円です\");\n",
    "    \n",
    "amount = int_input(\"支払総額\");\n",
    "people = int_input(\"参加人数\");\n",
    "[pay, payorg] = calc_payment(amount,people);\n",
    "show_payment(pay, payorg, people);"
   ]
  }
 ],
 "metadata": {
  "kernelspec": {
   "display_name": "Python 3 (ipykernel)",
   "language": "python",
   "name": "python3"
  },
  "language_info": {
   "codemirror_mode": {
    "name": "ipython",
    "version": 3
   },
   "file_extension": ".py",
   "mimetype": "text/x-python",
   "name": "python",
   "nbconvert_exporter": "python",
   "pygments_lexer": "ipython3",
   "version": "3.8.12"
  }
 },
 "nbformat": 4,
 "nbformat_minor": 5
}

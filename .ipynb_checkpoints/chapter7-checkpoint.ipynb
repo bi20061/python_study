{
 "cells": [
  {
   "cell_type": "markdown",
   "id": "3251fac7",
   "metadata": {},
   "source": [
    "モージュル"
   ]
  },
  {
   "cell_type": "code",
   "execution_count": 5,
   "id": "ac871521",
   "metadata": {},
   "outputs": [
    {
     "name": "stdout",
     "output_type": "stream",
     "text": [
      "何を記録しますか?文字コードの問題が発生\n"
     ]
    }
   ],
   "source": [
    "#組み込み関数 open\n",
    "\n",
    "text = input(\"何を記録しますか?\");\n",
    "\n",
    "file = open(\"diary.txt\", \"a\", encoding = \"utf-8\");\n",
    "\n",
    "file.write(text + \"\\n\");\n",
    "\n",
    "file.close;"
   ]
  },
  {
   "cell_type": "code",
   "execution_count": 7,
   "id": "5213eea9",
   "metadata": {},
   "outputs": [
    {
     "name": "stdout",
     "output_type": "stream",
     "text": [
      "今日は何した?バイトしてきたよ\n"
     ]
    }
   ],
   "source": [
    "#with文\n",
    "\n",
    "text = input(\"今日は何した?\");\n",
    "\n",
    "with open(\"diary.txt\", \"a\") as file:\n",
    "    file.write(text + \"\\n\");"
   ]
  },
  {
   "cell_type": "code",
   "execution_count": 8,
   "id": "229cb5b7",
   "metadata": {},
   "outputs": [
    {
     "name": "stdout",
     "output_type": "stream",
     "text": [
      "円周率は3.141592653589793です\n",
      "小数点以下を切り捨てれば3です\n",
      "小数点以上を切り上げれば4です\n"
     ]
    }
   ],
   "source": [
    "#import\n",
    "\n",
    "import math as m;\n",
    "\n",
    "print(f\"円周率は{m.pi}です\");\n",
    "print(f\"小数点以下を切り捨てれば{m.floor(m.pi)}です\");\n",
    "print(f\"小数点以上を切り上げれば{m.ceil(m.pi)}です\");"
   ]
  },
  {
   "cell_type": "code",
   "execution_count": 9,
   "id": "ca9ae6fb",
   "metadata": {},
   "outputs": [
    {
     "data": {
      "image/png": "[encoded data removed]",
      "text/plain": [
       "<Figure size 432x288 with 1 Axes>"
      ]
     },
     "metadata": {
      "needs_background": "light"
     },
     "output_type": "display_data"
    }
   ],
   "source": [
    "#matplotlib\n",
    "\n",
    "import matplotlib.pyplot as plt;\n",
    "\n",
    "weight = [68.4, 68.0, 69.5, 68.4, 68.9, 70.2, 71.4, 80.8, 68.5, 68.6, 68.3, 68.4];\n",
    "\n",
    "plt.plot(weight);"
   ]
  },
  {
   "cell_type": "code",
   "execution_count": 13,
   "id": "bd57ed59",
   "metadata": {},
   "outputs": [
    {
     "name": "stdout",
     "output_type": "stream",
     "text": [
      "3つの整数を,で区切って入力してください2,3,4\n",
      "最大値は4です\n"
     ]
    }
   ],
   "source": [
    "#演習　\n",
    "\n",
    "data = input(\"3つの整数を,で区切って入力してください\");\n",
    "hoge = data.split(\",\");\n",
    "print(f\"最大値は{max(hoge)}です\");"
   ]
  },
  {
   "cell_type": "code",
   "execution_count": 1,
   "id": "ee3922ba",
   "metadata": {},
   "outputs": [],
   "source": [
    "#演習　ファイルをコピーする\n",
    "\n",
    "file = open(\"diary.txt\", \"r\");\n",
    "for line in file:\n",
    "    copy_file = open(\"copy_diary.txt\", \"a\");\n",
    "    copy_file.write(line + \"\\n\");\n",
    "    copy_file.close;"
   ]
  },
  {
   "cell_type": "code",
   "execution_count": null,
   "id": "940e2aa9",
   "metadata": {},
   "outputs": [
    {
     "name": "stdout",
     "output_type": "stream",
     "text": [
      "数当てゲームを始めます。3桁の数を当ててください！\n",
      "1桁目の予想を入力(0～9)>>2\n",
      "2桁目の予想を入力(0～9)>>3\n",
      "3桁目の予想を入力(0～9)>>4\n",
      "1ヒット！2ボール！\n",
      "続けますか?1:続ける 2:終了>>1\n",
      "1桁目の予想を入力(0～9)>>2\n",
      "2桁目の予想を入力(0～9)>>4\n",
      "3桁目の予想を入力(0～9)>>3\n",
      "1ヒット！2ボール！\n",
      "続けますか?1:続ける 2:終了>>1\n",
      "1桁目の予想を入力(0～9)>>2\n",
      "2桁目の予想を入力(0～9)>>2\n",
      "3桁目の予想を入力(0～9)>>2\n",
      "1ヒット！2ボール！\n"
     ]
    }
   ],
   "source": [
    "#演習 ramdom\n",
    "\n",
    "import random;\n",
    "\n",
    "print(\"数当てゲームを始めます。3桁の数を当ててください！\");\n",
    "\n",
    "flag = True;\n",
    "answer = [];\n",
    "prediction = [];\n",
    "hit = 0;\n",
    "ball = 0;\n",
    "\n",
    "for i in range(3):\n",
    "        answer.append(random.randint(0,9));\n",
    "\n",
    "while flag == True:\n",
    "    for p in range(3):\n",
    "        prediction.append(int(input(f\"{p + 1}桁目の予想を入力(0～9)>>\")));\n",
    "\n",
    "    for count in range(3):\n",
    "        if answer[count] == prediction[count]:\n",
    "            hit += 1;\n",
    "        elif \n",
    "            ball += 1;\n",
    "\n",
    "    print(f\"{hit}ヒット！{ball}ボール！\");\n",
    "\n",
    "    if hit == 3:\n",
    "        print(\"正解です\");\n",
    "    else:\n",
    "        msg = int(input(\"続けますか?1:続ける 2:終了>>\"));\n",
    "        if msg == 1:\n",
    "            falg = True;\n",
    "            hit = 0;\n",
    "            ball = 0;\n",
    "        else:\n",
    "            flag = False;\n"
   ]
  }
 ],
 "metadata": {
  "kernelspec": {
   "display_name": "Python 3 (ipykernel)",
   "language": "python",
   "name": "python3"
  },
  "language_info": {
   "codemirror_mode": {
    "name": "ipython",
    "version": 3
   },
   "file_extension": ".py",
   "mimetype": "text/x-python",
   "name": "python",
   "nbconvert_exporter": "python",
   "pygments_lexer": "ipython3",
   "version": "3.8.12"
  }
 },
 "nbformat": 4,
 "nbformat_minor": 5
}

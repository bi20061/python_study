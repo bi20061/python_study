{
 "cells": [
  {
   "cell_type": "code",
   "execution_count": 1,
   "id": "e61a9d2d",
   "metadata": {},
   "outputs": [
    {
     "name": "stdout",
     "output_type": "stream",
     "text": [
      "あなたの名前を入力してくださいtaichi\n",
      "こんにちはtaichi\n"
     ]
    }
   ],
   "source": [
    "name = input('あなたの名前を入力してください');\n",
    "\n",
    "print('こんにちは' + name);"
   ]
  },
  {
   "cell_type": "code",
   "execution_count": 2,
   "id": "b2aefe84",
   "metadata": {},
   "outputs": [
    {
     "name": "stdout",
     "output_type": "stream",
     "text": [
      "料金を入力43242\n",
      "人数を入力2\n",
      "お支払いは21621円です。\n"
     ]
    }
   ],
   "source": [
    "price = int(input(\"料金を入力\"));\n",
    "number = int(input(\"人数を入力\"));\n",
    "payment = int(price/number);\n",
    "\n",
    "print(\"お支払いは{}円です。\".format(payment));"
   ]
  },
  {
   "cell_type": "code",
   "execution_count": 5,
   "id": "b33c29f0",
   "metadata": {},
   "outputs": [
    {
     "name": "stdout",
     "output_type": "stream",
     "text": [
      "料金を入力2342\n",
      "人数を入力234\n",
      "お支払いは10円です。\n"
     ]
    }
   ],
   "source": [
    "price = int(input(\"料金を入力\"));\n",
    "number = int(input(\"人数を入力\"));\n",
    "payment = int(price/number);\n",
    "\n",
    "print(f\"お支払いは{payment}円です。\");"
   ]
  },
  {
   "cell_type": "code",
   "execution_count": 6,
   "id": "c7d52264",
   "metadata": {},
   "outputs": [
    {
     "name": "stdout",
     "output_type": "stream",
     "text": [
      "version3.29\n"
     ]
    }
   ],
   "source": [
    "print(\"version{}\".format(3+2*0.1+9*0.01))"
   ]
  },
  {
   "cell_type": "code",
   "execution_count": 8,
   "id": "cfaf6c4e",
   "metadata": {},
   "outputs": [
    {
     "name": "stdout",
     "output_type": "stream",
     "text": [
      "体重(kg)を入力してください57\n",
      "身長（cm）を入力してください171\n",
      "あなたのBMIは19.493177387914233です\n"
     ]
    }
   ],
   "source": [
    "weight = float(input('体重(kg)を入力してください'));\n",
    "height = float(input('身長（cm）を入力してください'));\n",
    "height /= 100;\n",
    "bmi = float(weight / height / height);\n",
    "\n",
    "print(f\"あなたのBMIは{bmi}です\");"
   ]
  }
 ],
 "metadata": {
  "kernelspec": {
   "display_name": "Python 3 (ipykernel)",
   "language": "python",
   "name": "python3"
  },
  "language_info": {
   "codemirror_mode": {
    "name": "ipython",
    "version": 3
   },
   "file_extension": ".py",
   "mimetype": "text/x-python",
   "name": "python",
   "nbconvert_exporter": "python",
   "pygments_lexer": "ipython3",
   "version": "3.8.12"
  }
 },
 "nbformat": 4,
 "nbformat_minor": 5
}

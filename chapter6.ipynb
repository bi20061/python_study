{
 "cells": [
  {
   "cell_type": "markdown",
   "id": "346235ad",
   "metadata": {},
   "source": [
    "オブジェクト"
   ]
  },
  {
   "cell_type": "code",
   "execution_count": 1,
   "id": "b6115599",
   "metadata": {},
   "outputs": [
    {
     "name": "stdout",
     "output_type": "stream",
     "text": [
      "スッキリファンタジーXIL ～金色の理想郷～\n",
      "松田は3時間寝た！\n",
      "松田のHPは現在103です\n"
     ]
    }
   ],
   "source": [
    "#class\n",
    "\n",
    "class Hero:\n",
    "    name = \"松田\";\n",
    "    hp = 100;\n",
    "    def sleep(self, hours):\n",
    "        print(f\"{self.name}は{hours}時間寝た！\");\n",
    "        self.hp += hours;\n",
    "\n",
    "print(\"スッキリファンタジーXIL ～金色の理想郷～\");\n",
    "h = Hero();\n",
    "h.sleep(3);\n",
    "print(f\"{h.name}のHPは現在{h.hp}です\");  "
   ]
  },
  {
   "cell_type": "code",
   "execution_count": 2,
   "id": "f1010ab6",
   "metadata": {},
   "outputs": [
    {
     "name": "stdout",
     "output_type": "stream",
     "text": [
      "ABC\n",
      "True\n",
      "False\n",
      "XYZ\n"
     ]
    }
   ],
   "source": [
    "#演習　等価、等値\n",
    "\n",
    "x = [\"ABC\"];\n",
    "\n",
    "y = [input()];\n",
    "\n",
    "print(x[0] == y[0]);\n",
    "\n",
    "print(id(x[0]) == id(y[0]));\n",
    "\n",
    "y = x;\n",
    "\n",
    "y[0] = \"XYZ\";\n",
    "\n",
    "print(x[0]);"
   ]
  }
 ],
 "metadata": {
  "kernelspec": {
   "display_name": "Python 3 (ipykernel)",
   "language": "python",
   "name": "python3"
  },
  "language_info": {
   "codemirror_mode": {
    "name": "ipython",
    "version": 3
   },
   "file_extension": ".py",
   "mimetype": "text/x-python",
   "name": "python",
   "nbconvert_exporter": "python",
   "pygments_lexer": "ipython3",
   "version": "3.8.12"
  }
 },
 "nbformat": 4,
 "nbformat_minor": 5
}
